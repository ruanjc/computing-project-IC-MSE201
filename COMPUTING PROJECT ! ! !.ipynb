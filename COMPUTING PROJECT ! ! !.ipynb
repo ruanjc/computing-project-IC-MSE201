{
 "cells": [
  {
   "cell_type": "code",
   "execution_count": 278,
   "metadata": {},
   "outputs": [
    {
     "name": "stdout",
     "output_type": "stream",
     "text": [
      "100\n",
      "[0, 1, 2, 3, 4, 5, 6, 7, 8, 9, 10, 11, 12, 13, 14, 15, 16, 17, 18, 19, 20, 21, 22, 23, 24, 25, 26, 27, 28, 29, 30]\n"
     ]
    }
   ],
   "source": [
    "from scipy.interpolate import griddata\n",
    "import numpy as np\n",
    "from matplotlib import pylab as plt\n",
    "from scipy.interpolate import interp1d \n",
    "\n",
    "L = 30\n",
    "\n",
    "a = list(np.random.uniform(2, L, 5))\n",
    "b = list(np.random.uniform(2, L, 5))\n",
    "\n",
    "\n",
    "aa = np.zeros(200)\n",
    "bb = np.zeros(200)\n",
    "\n",
    "\n",
    "#colony 1\n",
    "for i in range(len(aa)):\n",
    "    aa[i] = a[0]+2*np.random.uniform(-1,1,1)\n",
    "    bb[i] = b[0]+2*np.random.uniform(-1,1,1)\n",
    "x1 = []\n",
    "y1 = []\n",
    "for i in range(len(aa)):\n",
    "    if np.sqrt((aa[i]-a[0])**2+(bb[i]-b[0])**2) < 2:\n",
    "        x1.append(aa[i])\n",
    "        y1.append(bb[i])\n",
    "xx1= []\n",
    "yy1 = []\n",
    "for i in range(100):\n",
    "    xx1.append(x1[i])\n",
    "    yy1.append(y1[i])\n",
    "\n",
    "    \n",
    "#colony 2\n",
    "for i in range(len(aa)):\n",
    "    aa[i] = a[1]+2*np.random.uniform(-1,1,1)\n",
    "    bb[i] = b[1]+2*np.random.uniform(-1,1,1)\n",
    "x2 = []\n",
    "y2 = []\n",
    "for i in range(len(aa)):\n",
    "    if np.sqrt((aa[i]-a[1])**2+(bb[i]-b[1])**2) < 2:\n",
    "        x2.append(aa[i])\n",
    "        y2.append(bb[i])\n",
    "xx2 = []\n",
    "yy2 = []\n",
    "for i in range(100):\n",
    "    xx2.append(x2[i])\n",
    "    yy2.append(y2[i])\n",
    "\n",
    "        \n",
    "#colony 3        \n",
    "for i in range(len(aa)):\n",
    "    aa[i] = a[2]+2*np.random.uniform(-1,1,1)\n",
    "    bb[i] = b[2]+2*np.random.uniform(-1,1,1)\n",
    "x3 = []\n",
    "y3 = []\n",
    "for i in range(len(aa)):\n",
    "    if np.sqrt((aa[i]-a[2])**2+(bb[i]-b[2])**2) < 2:\n",
    "        x3.append(aa[i])\n",
    "        y3.append(bb[i])\n",
    "xx3 = []\n",
    "yy3 = []\n",
    "for i in range(100):\n",
    "    xx3.append(x3[i])\n",
    "    yy3.append(y3[i])\n",
    "        \n",
    "        \n",
    "        \n",
    "#colony 4\n",
    "for i in range(len(aa)):\n",
    "    aa[i] = a[3]+2*np.random.uniform(-1,1,1)\n",
    "    bb[i] = b[3]+2*np.random.uniform(-1,1,1)\n",
    "x4 = []\n",
    "y4 = []\n",
    "for i in range(len(aa)):\n",
    "    if np.sqrt((aa[i]-a[3])**2+(bb[i]-b[3])**2) < 2:\n",
    "        x4.append(aa[i])\n",
    "        y4.append(bb[i])\n",
    "xx4 = []\n",
    "yy4 = []\n",
    "for i in range(100):\n",
    "    xx4.append(x4[i])\n",
    "    yy4.append(y4[i])\n",
    "\n",
    "       \n",
    "            \n",
    "#colony 5      \n",
    "for i in range(len(aa)):\n",
    "    aa[i] = a[4]+2*np.random.uniform(-1,1,1)\n",
    "    bb[i] = b[4]+2*np.random.uniform(-1,1,1)\n",
    "x5 = []\n",
    "y5 = []\n",
    "for i in range(len(aa)):\n",
    "    if np.sqrt((aa[i]-a[4])**2+(bb[i]-b[4])**2) < 2:\n",
    "        x5.append(aa[i])\n",
    "        y5.append(bb[i])\n",
    "xx5 = []\n",
    "yy5 = []\n",
    "for i in range(100):\n",
    "    xx5.append(x5[i])\n",
    "    yy5.append(y5[i])\n",
    "print(len(xx5))\n",
    "\n",
    "\n",
    "bdry = []\n",
    "for i in range(L+1):\n",
    "    bdry.append(i)\n",
    "print(bdry)"
   ]
  },
  {
   "cell_type": "code",
   "execution_count": 279,
   "metadata": {},
   "outputs": [
    {
     "data": {
      "image/png": "[encoded data removed]",
      "text/plain": [
       "<Figure size 360x360 with 1 Axes>"
      ]
     },
     "metadata": {
      "needs_background": "light"
     },
     "output_type": "display_data"
    }
   ],
   "source": [
    "plt.figure(figsize = (5,5))\n",
    "plt.xlim(0,L)\n",
    "plt.ylim(0,L)\n",
    "\n",
    "plt.plot( xx1, yy1 , 'b.' )\n",
    "plt.plot( xx2, yy2 , 'b.' )\n",
    "plt.plot( xx3, yy3 , 'b.' )\n",
    "plt.plot( xx4, yy4 , 'b.' )\n",
    "plt.plot( xx5, yy5 , 'b.' )\n",
    "\n",
    "plt.xlabel(\"x\")\n",
    "plt.ylabel(\"y\")\n",
    "plt.title(\"surface\")\n",
    "plt.show()"
   ]
  },
  {
   "cell_type": "code",
   "execution_count": null,
   "metadata": {},
   "outputs": [],
   "source": []
  },
  {
   "cell_type": "code",
   "execution_count": null,
   "metadata": {},
   "outputs": [],
   "source": []
  },
  {
   "cell_type": "code",
   "execution_count": null,
   "metadata": {},
   "outputs": [],
   "source": []
  }
 ],
 "metadata": {
  "kernelspec": {
   "display_name": "Python 3",
   "language": "python",
   "name": "python3"
  },
  "language_info": {
   "codemirror_mode": {
    "name": "ipython",
    "version": 3
   },
   "file_extension": ".py",
   "mimetype": "text/x-python",
   "name": "python",
   "nbconvert_exporter": "python",
   "pygments_lexer": "ipython3",
   "version": "3.7.4"
  }
 },
 "nbformat": 4,
 "nbformat_minor": 2
}
